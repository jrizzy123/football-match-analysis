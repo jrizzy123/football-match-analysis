{
 "cells": [
  {
   "cell_type": "code",
   "execution_count": null,
   "id": "269c4e38",
   "metadata": {},
   "outputs": [],
   "source": [
    "\n",
    "                \n",
    "                "
   ]
  },
  {
   "cell_type": "markdown",
   "id": "17625c99",
   "metadata": {},
   "source": [
    "# Get Dataset\n"
   ]
  },
  {
   "cell_type": "code",
   "execution_count": 1,
   "id": "bd761130",
   "metadata": {},
   "outputs": [
    {
     "name": "stdout",
     "output_type": "stream",
     "text": [
      "Collecting roboflow\n",
      "  Downloading roboflow-1.2.6-py3-none-any.whl.metadata (9.7 kB)\n",
      "Requirement already satisfied: certifi in c:\\users\\justi\\appdata\\local\\programs\\python\\python313\\lib\\site-packages (from roboflow) (2025.4.26)\n",
      "Collecting idna==3.7 (from roboflow)\n",
      "  Downloading idna-3.7-py3-none-any.whl.metadata (9.9 kB)\n",
      "Requirement already satisfied: cycler in c:\\users\\justi\\appdata\\local\\programs\\python\\python313\\lib\\site-packages (from roboflow) (0.12.1)\n",
      "Requirement already satisfied: kiwisolver>=1.3.1 in c:\\users\\justi\\appdata\\local\\programs\\python\\python313\\lib\\site-packages (from roboflow) (1.4.9)\n",
      "Requirement already satisfied: matplotlib in c:\\users\\justi\\appdata\\local\\programs\\python\\python313\\lib\\site-packages (from roboflow) (3.10.5)\n",
      "Requirement already satisfied: numpy>=1.18.5 in c:\\users\\justi\\appdata\\local\\programs\\python\\python313\\lib\\site-packages (from roboflow) (2.2.6)\n",
      "Collecting opencv-python-headless==4.10.0.84 (from roboflow)\n",
      "  Downloading opencv_python_headless-4.10.0.84-cp37-abi3-win_amd64.whl.metadata (20 kB)\n",
      "Requirement already satisfied: Pillow>=7.1.2 in c:\\users\\justi\\appdata\\local\\programs\\python\\python313\\lib\\site-packages (from roboflow) (11.3.0)\n",
      "Collecting pi-heif<2 (from roboflow)\n",
      "  Downloading pi_heif-1.1.0-cp313-cp313-win_amd64.whl.metadata (6.7 kB)\n",
      "Collecting pillow-avif-plugin<2 (from roboflow)\n",
      "  Downloading pillow_avif_plugin-1.5.2-cp313-cp313-win_amd64.whl.metadata (2.2 kB)\n",
      "Requirement already satisfied: python-dateutil in c:\\users\\justi\\appdata\\local\\programs\\python\\python313\\lib\\site-packages (from roboflow) (2.9.0.post0)\n",
      "Collecting python-dotenv (from roboflow)\n",
      "  Downloading python_dotenv-1.1.1-py3-none-any.whl.metadata (24 kB)\n",
      "Requirement already satisfied: requests in c:\\users\\justi\\appdata\\local\\programs\\python\\python313\\lib\\site-packages (from roboflow) (2.32.3)\n",
      "Requirement already satisfied: six in c:\\users\\justi\\appdata\\local\\programs\\python\\python313\\lib\\site-packages (from roboflow) (1.17.0)\n",
      "Requirement already satisfied: urllib3>=1.26.6 in c:\\users\\justi\\appdata\\local\\programs\\python\\python313\\lib\\site-packages (from roboflow) (2.4.0)\n",
      "Requirement already satisfied: tqdm>=4.41.0 in c:\\users\\justi\\appdata\\local\\programs\\python\\python313\\lib\\site-packages (from roboflow) (4.67.1)\n",
      "Requirement already satisfied: PyYAML>=5.3.1 in c:\\users\\justi\\appdata\\local\\programs\\python\\python313\\lib\\site-packages (from roboflow) (6.0.2)\n",
      "Collecting requests-toolbelt (from roboflow)\n",
      "  Downloading requests_toolbelt-1.0.0-py2.py3-none-any.whl.metadata (14 kB)\n",
      "Collecting filetype (from roboflow)\n",
      "  Downloading filetype-1.2.0-py2.py3-none-any.whl.metadata (6.5 kB)\n",
      "Requirement already satisfied: colorama in c:\\users\\justi\\appdata\\local\\programs\\python\\python313\\lib\\site-packages (from tqdm>=4.41.0->roboflow) (0.4.6)\n",
      "Requirement already satisfied: contourpy>=1.0.1 in c:\\users\\justi\\appdata\\local\\programs\\python\\python313\\lib\\site-packages (from matplotlib->roboflow) (1.3.3)\n",
      "Requirement already satisfied: fonttools>=4.22.0 in c:\\users\\justi\\appdata\\local\\programs\\python\\python313\\lib\\site-packages (from matplotlib->roboflow) (4.59.0)\n",
      "Requirement already satisfied: packaging>=20.0 in c:\\users\\justi\\appdata\\local\\programs\\python\\python313\\lib\\site-packages (from matplotlib->roboflow) (25.0)\n",
      "Requirement already satisfied: pyparsing>=2.3.1 in c:\\users\\justi\\appdata\\local\\programs\\python\\python313\\lib\\site-packages (from matplotlib->roboflow) (3.2.3)\n",
      "Requirement already satisfied: charset-normalizer<4,>=2 in c:\\users\\justi\\appdata\\local\\programs\\python\\python313\\lib\\site-packages (from requests->roboflow) (3.4.2)\n",
      "Downloading roboflow-1.2.6-py3-none-any.whl (88 kB)\n",
      "Downloading idna-3.7-py3-none-any.whl (66 kB)\n",
      "Downloading opencv_python_headless-4.10.0.84-cp37-abi3-win_amd64.whl (38.8 MB)\n",
      "   ---------------------------------------- 0.0/38.8 MB ? eta -:--:--\n",
      "   -- ------------------------------------- 2.4/38.8 MB 14.2 MB/s eta 0:00:03\n",
      "   ------ --------------------------------- 6.0/38.8 MB 16.5 MB/s eta 0:00:02\n",
      "   ---------- ----------------------------- 10.0/38.8 MB 16.9 MB/s eta 0:00:02\n",
      "   ------------- -------------------------- 12.8/38.8 MB 16.2 MB/s eta 0:00:02\n",
      "   ---------------- ----------------------- 16.0/38.8 MB 15.9 MB/s eta 0:00:02\n",
      "   ------------------- -------------------- 19.1/38.8 MB 15.8 MB/s eta 0:00:02\n",
      "   ---------------------- ----------------- 22.3/38.8 MB 15.7 MB/s eta 0:00:02\n",
      "   -------------------------- ------------- 25.4/38.8 MB 15.6 MB/s eta 0:00:01\n",
      "   ----------------------------- ---------- 28.8/38.8 MB 15.5 MB/s eta 0:00:01\n",
      "   -------------------------------- ------- 31.7/38.8 MB 15.3 MB/s eta 0:00:01\n",
      "   ------------------------------------ --- 35.1/38.8 MB 15.4 MB/s eta 0:00:01\n",
      "   ---------------------------------------  38.3/38.8 MB 15.4 MB/s eta 0:00:01\n",
      "   ---------------------------------------- 38.8/38.8 MB 15.0 MB/s  0:00:02\n",
      "Downloading pi_heif-1.1.0-cp313-cp313-win_amd64.whl (1.9 MB)\n",
      "   ---------------------------------------- 0.0/1.9 MB ? eta -:--:--\n",
      "   ---------------------------------------- 1.9/1.9 MB 15.2 MB/s  0:00:00\n",
      "Downloading pillow_avif_plugin-1.5.2-cp313-cp313-win_amd64.whl (9.9 MB)\n",
      "   ---------------------------------------- 0.0/9.9 MB ? eta -:--:--\n",
      "   ------------ --------------------------- 3.1/9.9 MB 16.7 MB/s eta 0:00:01\n",
      "   ------------------------ --------------- 6.0/9.9 MB 15.0 MB/s eta 0:00:01\n",
      "   ------------------------------------- -- 9.2/9.9 MB 15.1 MB/s eta 0:00:01\n",
      "   ---------------------------------------- 9.9/9.9 MB 14.5 MB/s  0:00:00\n",
      "Downloading filetype-1.2.0-py2.py3-none-any.whl (19 kB)\n",
      "Downloading python_dotenv-1.1.1-py3-none-any.whl (20 kB)\n",
      "Downloading requests_toolbelt-1.0.0-py2.py3-none-any.whl (54 kB)\n",
      "Installing collected packages: pillow-avif-plugin, filetype, python-dotenv, pi-heif, opencv-python-headless, idna, requests-toolbelt, roboflow\n",
      "\n",
      "   ---------------------------------------- 0/8 [pillow-avif-plugin]\n",
      "   ----- ---------------------------------- 1/8 [filetype]\n",
      "   ---------- ----------------------------- 2/8 [python-dotenv]\n",
      "   --------------- ------------------------ 3/8 [pi-heif]\n",
      "   -------------------- ------------------- 4/8 [opencv-python-headless]\n",
      "   -------------------- ------------------- 4/8 [opencv-python-headless]\n",
      "   -------------------- ------------------- 4/8 [opencv-python-headless]\n",
      "   -------------------- ------------------- 4/8 [opencv-python-headless]\n",
      "  Attempting uninstall: idna\n",
      "   -------------------- ------------------- 4/8 [opencv-python-headless]\n",
      "    Found existing installation: idna 3.10\n",
      "   -------------------- ------------------- 4/8 [opencv-python-headless]\n",
      "    Uninstalling idna-3.10:\n",
      "   -------------------- ------------------- 4/8 [opencv-python-headless]\n",
      "      Successfully uninstalled idna-3.10\n",
      "   -------------------- ------------------- 4/8 [opencv-python-headless]\n",
      "   ------------------------------ --------- 6/8 [requests-toolbelt]\n",
      "   ----------------------------------- ---- 7/8 [roboflow]\n",
      "   ----------------------------------- ---- 7/8 [roboflow]\n",
      "   ---------------------------------------- 8/8 [roboflow]\n",
      "\n",
      "Successfully installed filetype-1.2.0 idna-3.7 opencv-python-headless-4.10.0.84 pi-heif-1.1.0 pillow-avif-plugin-1.5.2 python-dotenv-1.1.1 requests-toolbelt-1.0.0 roboflow-1.2.6\n",
      "loading Roboflow workspace...\n",
      "loading Roboflow project...\n"
     ]
    },
    {
     "name": "stderr",
     "output_type": "stream",
     "text": [
      "Downloading Dataset Version Zip in football-players-detection-1 to yolov5pytorch:: 100%|██████████| 148663/148663 [00:09<00:00, 15032.73it/s]"
     ]
    },
    {
     "name": "stdout",
     "output_type": "stream",
     "text": [
      "\n"
     ]
    },
    {
     "name": "stderr",
     "output_type": "stream",
     "text": [
      "\n",
      "Extracting Dataset Version Zip to football-players-detection-1 in yolov5pytorch:: 100%|██████████| 1338/1338 [00:02<00:00, 479.50it/s]\n"
     ]
    }
   ],
   "source": [
    "!pip install roboflow\n",
    "\n",
    "from roboflow import Roboflow\n",
    "rf = Roboflow(api_key=\"1o5pp7ypenNlXFHzPPcf\")\n",
    "project = rf.workspace(\"roboflow-jvuqo\").project(\"football-players-detection-3zvbc\")\n",
    "version = project.version(1)\n",
    "dataset = version.download(\"yolov5\")"
   ]
  },
  {
   "cell_type": "code",
   "execution_count": 2,
   "id": "7576a8c6",
   "metadata": {},
   "outputs": [
    {
     "data": {
      "text/plain": [
       "'c:\\\\Users\\\\justi\\\\OneDrive\\\\Desktop\\\\football_analysis\\\\training\\\\football-players-detection-1'"
      ]
     },
     "execution_count": 2,
     "metadata": {},
     "output_type": "execute_result"
    }
   ],
   "source": [
    "dataset.location"
   ]
  },
  {
   "cell_type": "code",
   "execution_count": null,
   "id": "e5ea962b",
   "metadata": {},
   "outputs": [],
   "source": []
  },
  {
   "cell_type": "markdown",
   "id": "74277754",
   "metadata": {},
   "source": [
    "# Training\n"
   ]
  },
  {
   "cell_type": "code",
   "execution_count": null,
   "id": "fbd0ee45",
   "metadata": {},
   "outputs": [],
   "source": [
    "!yolo task=detect mode=train model=yolov5s.pt data={dataset.location}/data.yaml epochs=100 imgsz=640"
   ]
  }
 ],
 "metadata": {
  "kernelspec": {
   "display_name": "Python 3",
   "language": "python",
   "name": "python3"
  },
  "language_info": {
   "codemirror_mode": {
    "name": "ipython",
    "version": 3
   },
   "file_extension": ".py",
   "mimetype": "text/x-python",
   "name": "python",
   "nbconvert_exporter": "python",
   "pygments_lexer": "ipython3",
   "version": "3.13.2"
  }
 },
 "nbformat": 4,
 "nbformat_minor": 5
}
